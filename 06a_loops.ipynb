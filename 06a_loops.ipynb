{
 "cells": [
  {
   "cell_type": "markdown",
   "metadata": {},
   "source": [
    "### Break function"
   ]
  },
  {
   "cell_type": "code",
   "execution_count": 1,
   "metadata": {},
   "outputs": [
    {
     "name": "stdout",
     "output_type": "stream",
     "text": [
      "0,Hello world\n",
      "1,Hello world\n",
      "2,Hello world\n",
      "3,Hello world\n",
      "4,Hello world\n"
     ]
    }
   ],
   "source": [
    "## break function\n",
    "for i in range(0,10):\n",
    "  if i==5:\n",
    "    break\n",
    "  print(f\"{i},Hello world\")\n"
   ]
  },
  {
   "cell_type": "markdown",
   "metadata": {},
   "source": [
    "## Continue"
   ]
  },
  {
   "cell_type": "code",
   "execution_count": 2,
   "metadata": {},
   "outputs": [
    {
     "name": "stdout",
     "output_type": "stream",
     "text": [
      "0,Hello world\n",
      "1,Hello world\n",
      "2,Hello world\n",
      "3,Hello world\n",
      "4,Hello world\n",
      "6,Hello world\n",
      "7,Hello world\n",
      "8,Hello world\n",
      "9,Hello world\n"
     ]
    }
   ],
   "source": [
    "# Continue\n",
    "for i in range (0,10):\n",
    "  if i==5:\n",
    "    continue\n",
    "  print(f\"{i},Hello world\")"
   ]
  },
  {
   "cell_type": "markdown",
   "metadata": {},
   "source": [
    "## Pass"
   ]
  },
  {
   "cell_type": "code",
   "execution_count": 3,
   "metadata": {},
   "outputs": [
    {
     "name": "stdout",
     "output_type": "stream",
     "text": [
      "0,Hello world\n",
      "1,Hello world\n",
      "2,Hello world\n",
      "3,Hello world\n",
      "4,Hello world\n",
      "5,Hello world\n",
      "6,Hello world\n",
      "7,Hello world\n",
      "8,Hello world\n",
      "9,Hello world\n"
     ]
    }
   ],
   "source": [
    "# pass\n",
    "for i in range (0,10):\n",
    "  if i==5:\n",
    "    pass\n",
    "  print(f\"{i},Hello world\")"
   ]
  },
  {
   "cell_type": "code",
   "execution_count": null,
   "metadata": {},
   "outputs": [],
   "source": []
  }
 ],
 "metadata": {
  "kernelspec": {
   "display_name": "Python 3",
   "language": "python",
   "name": "python3"
  },
  "language_info": {
   "codemirror_mode": {
    "name": "ipython",
    "version": 3
   },
   "file_extension": ".py",
   "mimetype": "text/x-python",
   "name": "python",
   "nbconvert_exporter": "python",
   "pygments_lexer": "ipython3",
   "version": "3.11.9"
  }
 },
 "nbformat": 4,
 "nbformat_minor": 2
}
