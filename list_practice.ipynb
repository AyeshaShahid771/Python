{
 "cells": [
  {
   "cell_type": "code",
   "execution_count": 1,
   "metadata": {},
   "outputs": [
    {
     "name": "stdout",
     "output_type": "stream",
     "text": [
      "Sum of your two given numbers is 30\n"
     ]
    }
   ],
   "source": [
    "#Q1\n",
    "num1 = int(input(\"Enter the first number: \"))\n",
    "num2 = int(input(\"Enter the second number: \"))\n",
    "print (f'Sum of your two given numbers is {num1 + num2}')"
   ]
  },
  {
   "cell_type": "code",
   "execution_count": 2,
   "metadata": {},
   "outputs": [
    {
     "name": "stdout",
     "output_type": "stream",
     "text": [
      "My favourite animal is also dog!\n"
     ]
    }
   ],
   "source": [
    "#Q2\n",
    "fav_ani = input('What is your favourite animal? ')\n",
    "print(f'My favourite animal is also {fav_ani}!')"
   ]
  },
  {
   "cell_type": "code",
   "execution_count": 6,
   "metadata": {},
   "outputs": [
    {
     "name": "stdout",
     "output_type": "stream",
     "text": [
      "temp in celsius is  76.0 in celsius :24.444444444444443C\n"
     ]
    }
   ],
   "source": [
    "#Q3\n",
    "deg_far = float(input('Enter the temperature in Farenheit: '))\n",
    "print(f'temp in celsius is  {deg_far} in celsius :{(deg_far  -32)*5.0/9.0}C')"
   ]
  },
  {
   "cell_type": "code",
   "execution_count": 7,
   "metadata": {},
   "outputs": [
    {
     "name": "stdout",
     "output_type": "stream",
     "text": [
      "Perimeter of the triangle is 44\n"
     ]
    }
   ],
   "source": [
    "#Q4\n",
    "len1 = int(input('Enter the length of first side of triangle: '))\n",
    "len2 = int(input('Enter the length of second side of triangle: '))\n",
    "len3= int(input('Enter the length of third side of triangle: '))\n",
    "print(f'Perimeter of the triangle is {len1 + len2 + len3}')"
   ]
  },
  {
   "cell_type": "code",
   "execution_count": 8,
   "metadata": {},
   "outputs": [
    {
     "name": "stdout",
     "output_type": "stream",
     "text": [
      "Square of 4.0 is 16.0\n"
     ]
    }
   ],
   "source": [
    "#Q5\n",
    "num = float(input('Enter a number whose square you want to know: '))\n",
    "print(f'Square of {num} is {num**2}')"
   ]
  },
  {
   "cell_type": "code",
   "execution_count": 11,
   "metadata": {},
   "outputs": [
    {
     "name": "stdout",
     "output_type": "stream",
     "text": [
      "[1, 2, 4, 5, 6, 7, 8, 9, 10]\n"
     ]
    }
   ],
   "source": [
    "#Q6\n",
    "numbers =[1,2,3,4,5,6,7,8,9,10]\n",
    "numbers.remove(3)\n",
    "print (numbers)"
   ]
  },
  {
   "cell_type": "code",
   "execution_count": 14,
   "metadata": {},
   "outputs": [
    {
     "data": {
      "text/plain": [
       "[1, 2, 3, 4, 5, 6]"
      ]
     },
     "execution_count": 14,
     "metadata": {},
     "output_type": "execute_result"
    }
   ],
   "source": [
    "#Q7\n",
    "list1 =[1,2,3]\n",
    "list2 =[4,5,6]\n",
    "list1.extend(list2)\n",
    "list1"
   ]
  },
  {
   "cell_type": "code",
   "execution_count": 15,
   "metadata": {},
   "outputs": [
    {
     "data": {
      "text/plain": [
       "40"
      ]
     },
     "execution_count": 15,
     "metadata": {},
     "output_type": "execute_result"
    }
   ],
   "source": [
    "#Q8\n",
    "list = [10,20,30,40]\n",
    "list.pop()\n",
    "# this will remove the last element of the list"
   ]
  },
  {
   "cell_type": "code",
   "execution_count": 16,
   "metadata": {},
   "outputs": [
    {
     "data": {
      "text/plain": [
       "3"
      ]
     },
     "execution_count": 16,
     "metadata": {},
     "output_type": "execute_result"
    }
   ],
   "source": [
    "index_method = ['red', 'blue', 'green', 'yellow']\n",
    "index_method.index('yellow')"
   ]
  },
  {
   "cell_type": "code",
   "execution_count": null,
   "metadata": {},
   "outputs": [],
   "source": []
  }
 ],
 "metadata": {
  "kernelspec": {
   "display_name": "Python 3",
   "language": "python",
   "name": "python3"
  },
  "language_info": {
   "codemirror_mode": {
    "name": "ipython",
    "version": 3
   },
   "file_extension": ".py",
   "mimetype": "text/x-python",
   "name": "python",
   "nbconvert_exporter": "python",
   "pygments_lexer": "ipython3",
   "version": "3.12.3"
  }
 },
 "nbformat": 4,
 "nbformat_minor": 2
}
