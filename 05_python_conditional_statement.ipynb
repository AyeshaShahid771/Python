{
 "cells": [
  {
   "cell_type": "code",
   "execution_count": 14,
   "metadata": {},
   "outputs": [
    {
     "name": "stdout",
     "output_type": "stream",
     "text": [
      "10\n",
      "fail\n"
     ]
    }
   ],
   "source": [
    "marks = input('Enter your marks') # input will be always string but we are type casting it to int\n",
    "(int(marks))\n",
    "print(marks)\n",
    "if int(marks) >= 33:\n",
    "    print(\"pass\")\n",
    "else:\n",
    "    print(\"fail\")  \n",
    " # or we could do marks = int(input('Enter your marks')) and then we dont need to type cast it in line 3  "
   ]
  },
  {
   "cell_type": "code",
   "execution_count": null,
   "metadata": {},
   "outputs": [],
   "source": [
    "# Relational operators\n",
    "<,>,<=,>=,==,!=\n",
    "#logical operators\n",
    "# and, or, not symbols are &&, ||, !\n",
    "# and - if both are true then only it will be true\n",
    "# or - if any one is true then it will be true\n",
    "# not - if false then true and if true then false\n"
   ]
  },
  {
   "cell_type": "code",
   "execution_count": 17,
   "metadata": {},
   "outputs": [
    {
     "name": "stdout",
     "output_type": "stream",
     "text": [
      "today weather is hot\n"
     ]
    }
   ],
   "source": [
    "temp = int(input('Enter your temp :'))\n",
    "if temp>28:\n",
    "    print('today weather is hot')\n",
    "elif temp>10 and temp<28:\n",
    "    print('today weather is moderate')\n",
    "else :\n",
    "    print('today weather is cold')       "
   ]
  },
  {
   "cell_type": "code",
   "execution_count": 23,
   "metadata": {},
   "outputs": [
    {
     "name": "stdout",
     "output_type": "stream",
     "text": [
      "yes apple is there\n",
      "apples found at index 1\n"
     ]
    }
   ],
   "source": [
    "fruit =('cherry','apples','banana  ')\n",
    "if 'apples' in fruit:\n",
    "    print('yes apple is there')\n",
    "    index = fruit.index('apples')\n",
    "    print(f\"apples found at index {index}\")"
   ]
  },
  {
   "cell_type": "code",
   "execution_count": null,
   "metadata": {},
   "outputs": [],
   "source": []
  }
 ],
 "metadata": {
  "kernelspec": {
   "display_name": "Python 3",
   "language": "python",
   "name": "python3"
  },
  "language_info": {
   "codemirror_mode": {
    "name": "ipython",
    "version": 3
   },
   "file_extension": ".py",
   "mimetype": "text/x-python",
   "name": "python",
   "nbconvert_exporter": "python",
   "pygments_lexer": "ipython3",
   "version": "3.12.3"
  }
 },
 "nbformat": 4,
 "nbformat_minor": 2
}
