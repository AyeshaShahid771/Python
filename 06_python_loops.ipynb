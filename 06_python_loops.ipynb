{
 "cells": [
  {
   "cell_type": "code",
   "execution_count": 2,
   "metadata": {},
   "outputs": [
    {
     "name": "stdout",
     "output_type": "stream",
     "text": [
      "index of sana is 1\n",
      "1\n"
     ]
    }
   ],
   "source": [
    "guests=[\"sara\",'sana','saba','sadia']\n",
    "not_coming=\"sana\"\n",
    "for i in  guests:\n",
    "    if i == not_coming:\n",
    "        print(f\"index of {not_coming} is {guests.index(not_coming)}\")\n",
    "print(guests.index(not_coming))"
   ]
  },
  {
   "cell_type": "code",
   "execution_count": 5,
   "metadata": {},
   "outputs": [
    {
     "data": {
      "text/plain": [
       "'saba'"
      ]
     },
     "execution_count": 5,
     "metadata": {},
     "output_type": "execute_result"
    }
   ],
   "source": [
    "guests.pop()"
   ]
  },
  {
   "cell_type": "code",
   "execution_count": 14,
   "metadata": {},
   "outputs": [
    {
     "name": "stdout",
     "output_type": "stream",
     "text": [
      "['sana']\n"
     ]
    }
   ],
   "source": [
    "print(guests)"
   ]
  },
  {
   "cell_type": "code",
   "execution_count": 11,
   "metadata": {},
   "outputs": [
    {
     "name": "stdout",
     "output_type": "stream",
     "text": [
      "your output is = SARA\n",
      "your output is = SANA\n",
      "your output is = SANA\n"
     ]
    }
   ],
   "source": [
    "for x in guests:\n",
    "    print(f\"your output is = {x.upper()}\")"
   ]
  },
  {
   "cell_type": "code",
   "execution_count": 13,
   "metadata": {},
   "outputs": [
    {
     "name": "stdout",
     "output_type": "stream",
     "text": [
      "None\n",
      "None\n"
     ]
    }
   ],
   "source": [
    "for x in guests:\n",
    "    print(guests.remove(x))\n"
   ]
  },
  {
   "cell_type": "markdown",
   "metadata": {},
   "source": [
    "## range functions"
   ]
  },
  {
   "cell_type": "code",
   "execution_count": 20,
   "metadata": {},
   "outputs": [
    {
     "name": "stdout",
     "output_type": "stream",
     "text": [
      "10\n",
      "8\n",
      "6\n",
      "4\n",
      "2\n"
     ]
    }
   ],
   "source": [
    "# range function\n",
    "# range(start(default=0),end,step(default=1))\n",
    "for i in range(10,1,-2):\n",
    "    print(i)\n",
    "\n"
   ]
  },
  {
   "cell_type": "markdown",
   "metadata": {},
   "source": [
    "## Type Casting"
   ]
  },
  {
   "cell_type": "code",
   "execution_count": 22,
   "metadata": {},
   "outputs": [
    {
     "name": "stdout",
     "output_type": "stream",
     "text": [
      "[1, 3, 5, 7, 9]\n"
     ]
    }
   ],
   "source": [
    "#int()\n",
    "#float()\n",
    "#bool()\n",
    "#str()\n",
    "#list() \n",
    "#tuple()\n",
    "#set()\n",
    "#dict()\n",
    "list=list(range(1,10,2))\n",
    "print(list)"
   ]
  },
  {
   "cell_type": "code",
   "execution_count": 24,
   "metadata": {},
   "outputs": [
    {
     "name": "stdout",
     "output_type": "stream",
     "text": [
      "[1, 4, 9, 16, 25, 36, 49, 64, 81]\n"
     ]
    }
   ],
   "source": [
    "numbers=[1,2,3,4,5,6,7,8,9]\n",
    "square=[]\n",
    "for i in numbers:\n",
    "    square.append(i**2)\n",
    "\n",
    "print(square)"
   ]
  },
  {
   "cell_type": "code",
   "execution_count": 31,
   "metadata": {},
   "outputs": [
    {
     "name": "stdout",
     "output_type": "stream",
     "text": [
      "[1, 4, 9, 16, 25, 36, 49, 64, 81]\n"
     ]
    }
   ],
   "source": [
    "square2=[]\n",
    "square2 =[x**2 for x in numbers] \n",
    "print(square2)"
   ]
  },
  {
   "cell_type": "code",
   "execution_count": 41,
   "metadata": {},
   "outputs": [
    {
     "name": "stdout",
     "output_type": "stream",
     "text": [
      "['saka', 'sara', 'ali', 'sana', 'saba', 'sadia', 'saia']\n",
      "HI you are invited to dinner saka\n",
      "HI you are invited to dinner sara\n",
      "HI you are invited to dinner ali\n",
      "HI you are invited to dinner sana\n",
      "HI you are invited to dinner saba\n",
      "HI you are invited to dinner sadia\n",
      "HI you are invited to dinner saia\n",
      "Now by for loop\n",
      "HI! you are invited to dinner saka 0\n",
      "HI! you are invited to dinner sara 1\n",
      "HI! you are invited to dinner ali 2\n",
      "HI! you are invited to dinner sana 3\n",
      "HI! you are invited to dinner saba 4\n",
      "HI! you are invited to dinner sadia 5\n",
      "HI! you are invited to dinner saia 6\n"
     ]
    }
   ],
   "source": [
    "# make a list of 5 element string \n",
    "task =['sara','ali','sana','saba','sadia']\n",
    "task.append('saia')\n",
    "task.insert(0,'saka')\n",
    "print(task)\n",
    "print(f'HI you are invited to dinner {task[0]}')\n",
    "print(f'HI you are invited to dinner {task[1]}')\n",
    "print(f'HI you are invited to dinner {task[2]}')\n",
    "print(f'HI you are invited to dinner {task[3]}')\n",
    "print(f'HI you are invited to dinner {task[4]}')\n",
    "print(f'HI you are invited to dinner {task[5]}')\n",
    "print(f'HI you are invited to dinner {task[6]}')\n",
    "\n",
    "print(\"Now by for loop\")\n",
    "\n",
    "\n",
    "\n",
    "for i in task:\n",
    "    print(f'HI! you are invited to dinner {i} {task.index(i)}')"
   ]
  },
  {
   "cell_type": "code",
   "execution_count": 53,
   "metadata": {},
   "outputs": [
    {
     "name": "stdout",
     "output_type": "stream",
     "text": [
      "1\n"
     ]
    }
   ],
   "source": [
    "task1=['a','b','c']\n",
    "task1.pop(1)\n",
    "task1.insert(1,'d')\n",
    "task1\n",
    "index=task1.index('d') \n",
    "print(index)"
   ]
  },
  {
   "cell_type": "code",
   "execution_count": null,
   "metadata": {},
   "outputs": [],
   "source": []
  }
 ],
 "metadata": {
  "kernelspec": {
   "display_name": "Python 3",
   "language": "python",
   "name": "python3"
  },
  "language_info": {
   "codemirror_mode": {
    "name": "ipython",
    "version": 3
   },
   "file_extension": ".py",
   "mimetype": "text/x-python",
   "name": "python",
   "nbconvert_exporter": "python",
   "pygments_lexer": "ipython3",
   "version": "3.12.3"
  }
 },
 "nbformat": 4,
 "nbformat_minor": 2
}
