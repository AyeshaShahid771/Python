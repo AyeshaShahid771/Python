{
 "cells": [
  {
   "cell_type": "code",
   "execution_count": 10,
   "metadata": {},
   "outputs": [
    {
     "name": "stdout",
     "output_type": "stream",
     "text": [
      "Hello, Ayesha!\n",
      "Hi! Ayesha We got it ,Your favorite numbers are: 2, 5, 7\n",
      "('even', 'odd', 'odd')\n",
      "2, square of this number is 4\n",
      "5, square of this number is 25\n",
      "7, square of this number is 49\n"
     ]
    }
   ],
   "source": [
    "#Name =Ayesha Shahid\n",
    "#roll no = PIAIC245513\n",
    "name : str = input(\"Enter your name: \")\n",
    "print(f\"Hello, {name}!\")\n",
    "fav_numbers : list[int] = []\n",
    "for i in range(3):\n",
    "    fav_numbers.append(int(input(f\"Enter your favorite number {i + 1}: \")))\n",
    "print(f\"Hi! {name} We got it ,Your favorite numbers are: {fav_numbers[0]}, {fav_numbers[1]}, {fav_numbers[2]}\")  \n",
    "even_odd : tuple =()\n",
    "for i in range(3):\n",
    "    if fav_numbers[i] % 2 == 0:\n",
    "        even_odd += (\"even\",)\n",
    "    else:\n",
    "        even_odd += (\"odd\",)\n",
    "print(even_odd)   \n",
    "sum : int = 0     \n",
    "for i in range(3):\n",
    "      tuple_i = (f'The number is {fav_numbers[i]}  and square of this number is {fav_numbers[i] ** 2}')\n",
    "      print(tuple_i)\n",
    "      sum = sum + fav_numbers[i]\n",
    "print(f\" Oh ! Sum of your favorite numbers is {sum}\")      \n",
    "## Now check sum is prime or not\n",
    "if sum > 1:\n",
    "    for i in range(2, sum):\n",
    "        if (sum % i) == 0:\n",
    "            print(f\"{sum} is not a prime number\")\n",
    "            break\n",
    "    else:\n",
    "        print(f\"Amazing! {sum} is a prime number\")\n",
    "\n",
    "\n"
   ]
  },
  {
   "cell_type": "code",
   "execution_count": null,
   "metadata": {},
   "outputs": [],
   "source": []
  }
 ],
 "metadata": {
  "kernelspec": {
   "display_name": "Python 3",
   "language": "python",
   "name": "python3"
  },
  "language_info": {
   "codemirror_mode": {
    "name": "ipython",
    "version": 3
   },
   "file_extension": ".py",
   "mimetype": "text/x-python",
   "name": "python",
   "nbconvert_exporter": "python",
   "pygments_lexer": "ipython3",
   "version": "3.12.3"
  }
 },
 "nbformat": 4,
 "nbformat_minor": 2
}
