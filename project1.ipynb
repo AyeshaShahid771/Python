{
 "cells": [
  {
   "cell_type": "markdown",
   "metadata": {},
   "source": [
    "\n",
    "<p style=\"color:blue;\">\n",
    "# Name = Ayesha Shahid<br>\n",
    "# Roll no = PIAIC245513<br>\n",
    "Step 1: Input User Information\n",
    "</p>"
   ]
  },
  {
   "cell_type": "code",
   "execution_count": 3,
   "metadata": {},
   "outputs": [
    {
     "name": "stdout",
     "output_type": "stream",
     "text": [
      "Hello, Ayesha!\n"
     ]
    }
   ],
   "source": [
    "name : str = input(\"Enter your name: \")\n",
    "print(f\"Hello, {name}!\")"
   ]
  },
  {
   "cell_type": "markdown",
   "metadata": {},
   "source": [
    "\n",
    "<p style=\"color:green;\">\n",
    "  Step 2: Collect Favorite Numbers\n",
    "</p>"
   ]
  },
  {
   "cell_type": "code",
   "execution_count": 4,
   "metadata": {},
   "outputs": [
    {
     "name": "stdout",
     "output_type": "stream",
     "text": [
      "Hi! Ayesha We got it ,Your favorite numbers are: 2, 3, 4\n"
     ]
    }
   ],
   "source": [
    "fav_numbers : list[int] = []\n",
    "for i in range(3):\n",
    "    fav_numbers.append(int(input(f\"Enter your favorite number {i + 1}: \")))\n",
    "print(f\"Hi! {name} We got it ,Your favorite numbers are: {fav_numbers[0]}, {fav_numbers[1]}, {fav_numbers[2]}\")  "
   ]
  },
  {
   "cell_type": "markdown",
   "metadata": {},
   "source": [
    "<p style=\"color:olive;\">\n",
    "  Step 3: Checking even odd numbers\n",
    "</p>"
   ]
  },
  {
   "cell_type": "code",
   "execution_count": 5,
   "metadata": {},
   "outputs": [
    {
     "name": "stdout",
     "output_type": "stream",
     "text": [
      "('even', 'odd', 'even')\n"
     ]
    }
   ],
   "source": [
    "even_odd : tuple =()\n",
    "for i in range(3):\n",
    "    if fav_numbers[i] % 2 == 0:\n",
    "        even_odd += (\"even\",)\n",
    "    else:\n",
    "        even_odd += (\"odd\",)\n",
    "print(even_odd)  "
   ]
  },
  {
   "cell_type": "markdown",
   "metadata": {},
   "source": [
    "<p style=\"color:coral;\">\n",
    "  Step 4: Finding square and its sum\n",
    "</p>"
   ]
  },
  {
   "cell_type": "code",
   "execution_count": 6,
   "metadata": {},
   "outputs": [
    {
     "name": "stdout",
     "output_type": "stream",
     "text": [
      "The number is 2  and square of this number is 4\n",
      "The number is 3  and square of this number is 9\n",
      "The number is 4  and square of this number is 16\n",
      " Oh ! Sum of your favorite numbers is 9\n"
     ]
    }
   ],
   "source": [
    "sum : int = 0     \n",
    "for i in range(3):\n",
    "      tuple_i = (f'The number is {fav_numbers[i]}  and square of this number is {fav_numbers[i] ** 2}')\n",
    "      print(tuple_i)\n",
    "      sum = sum + fav_numbers[i]\n",
    "print(f\" Oh ! Sum of your favorite numbers is {sum}\") "
   ]
  },
  {
   "cell_type": "markdown",
   "metadata": {},
   "source": [
    "<p style=\"color:steelblue;\">\n",
    "  Step 5: Finding sum is prime or not\n",
    "</p>"
   ]
  },
  {
   "cell_type": "code",
   "execution_count": 8,
   "metadata": {},
   "outputs": [
    {
     "name": "stdout",
     "output_type": "stream",
     "text": [
      "9 is not a prime number\n"
     ]
    }
   ],
   "source": [
    "import math\n",
    "cnt : int = 0\n",
    "if sum > 1:\n",
    "    # to the square root of n.\n",
    "    for i in range(1, int(math.sqrt(sum)) + 1):\n",
    "        # If n is divisible by i\n",
    "        # without any remainder.\n",
    "        if sum % i == 0:\n",
    "            # Increment the counter.\n",
    "            cnt = cnt + 1\n",
    "\n",
    "            # If n is not a perfect square,\n",
    "            # count its reciprocal factor.\n",
    "            if sum // i != i:\n",
    "                cnt = cnt + 1\n",
    "\n",
    "    # If the number of\n",
    "    # factors is exactly 2.\n",
    "    if cnt == 2:\n",
    "   \n",
    "         # that the number is prime.\n",
    "        print(f\"Amazing! {sum} is a prime number\")\n",
    "    # If the number of\n",
    "    # factors is not 2.\n",
    "    else: \n",
    "        \n",
    "        # that the number is not prime.\n",
    "       print(f\"{sum} is not a prime number\")\n",
    "    \n",
    "\n"
   ]
  },
  {
   "cell_type": "markdown",
   "metadata": {},
   "source": []
  }
 ],
 "metadata": {
  "kernelspec": {
   "display_name": "Python 3",
   "language": "python",
   "name": "python3"
  },
  "language_info": {
   "codemirror_mode": {
    "name": "ipython",
    "version": 3
   },
   "file_extension": ".py",
   "mimetype": "text/x-python",
   "name": "python",
   "nbconvert_exporter": "python",
   "pygments_lexer": "ipython3",
   "version": "3.12.3"
  }
 },
 "nbformat": 4,
 "nbformat_minor": 2
}
