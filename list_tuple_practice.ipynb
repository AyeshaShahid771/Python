{
 "cells": [
  {
   "cell_type": "code",
   "execution_count": 1,
   "metadata": {},
   "outputs": [
    {
     "name": "stdout",
     "output_type": "stream",
     "text": [
      "Alia\n",
      "sana\n",
      "hina\n",
      "sadaf\n"
     ]
    }
   ],
   "source": [
    "\n",
    "names :list= ['Alia', 'sana', 'hina', 'sadaf']\n",
    "print(names[0])\n",
    "print(names[1])\n",
    "print(names[2])\n",
    "print(names[3])"
   ]
  },
  {
   "cell_type": "code",
   "execution_count": 3,
   "metadata": {},
   "outputs": [
    {
     "name": "stdout",
     "output_type": "stream",
     "text": [
      "Hi! s how are you?\n",
      "Hi! a how are you?\n",
      "Hi! d how are you?\n",
      "Hi! a how are you?\n",
      "Hi! f how are you?\n"
     ]
    }
   ],
   "source": [
    "for names in names:\n",
    "    print(f\"Hi! {names} how are you?\")"
   ]
  },
  {
   "cell_type": "code",
   "execution_count": 4,
   "metadata": {},
   "outputs": [
    {
     "name": "stdout",
     "output_type": "stream",
     "text": [
      "I would like to own a Mountain Bike.\n",
      "I would like to own a Road Bike.\n",
      "I would like to own a Hybrid Bike.\n",
      "I would like to own a Electric Bike.\n"
     ]
    }
   ],
   "source": [
    "bicycles :list = ['Mountain Bike', 'Road Bike', 'Hybrid Bike', 'Electric Bike']\n",
    "\n",
    "# Print a statement about each bicycle\n",
    "for bicycle in bicycles:\n",
    "    print(f\"I would like to own a {bicycle}.\")"
   ]
  },
  {
   "cell_type": "code",
   "execution_count": 26,
   "metadata": {},
   "outputs": [
    {
     "name": "stdout",
     "output_type": "stream",
     "text": [
      " I would be waiting for you at dinner dear Alia\n",
      " I would be waiting for you at dinner dear sana\n",
      " I would be waiting for you at dinner dear hina\n",
      " I would be waiting for you at dinner dear sadaf\n"
     ]
    }
   ],
   "source": [
    "guests :list =['Alia', 'sana', 'hina', 'sadaf']\n",
    "\n",
    "for guests in guests:\n",
    "    print(f\" I would be waiting for you at dinner dear {guests}\")"
   ]
  },
  {
   "cell_type": "code",
   "execution_count": 29,
   "metadata": {},
   "outputs": [
    {
     "name": "stdout",
     "output_type": "stream",
     "text": [
      "Sorry! Sadaf is unable to attend the dinner.\n",
      "Index of Sadaf in the list: 2\n",
      "\n",
      "Updated guest list:\n",
      "- sana\n",
      "- hina\n",
      "- Saba\n"
     ]
    }
   ],
   "source": [
    "# Original list of guests\n",
    "guests:list  = ['sana', 'hina', 'Sadaf']\n",
    "\n",
    "# Guest who can't make it\n",
    "unable_to_attend = 'Sadaf'\n",
    "\n",
    "# Find the index and handle the guest who can't attend\n",
    "for i, guest in enumerate(guests):\n",
    "    if guest == unable_to_attend:\n",
    "        print(f\"Sorry! {unable_to_attend} is unable to attend the dinner.\")\n",
    "        print(f\"Index of {unable_to_attend} in the list: {i}\")\n",
    "        # Optionally, you can replace the guest who can't attend\n",
    "        guests[i] = 'Saba'\n",
    "        break  # Exit the loop after handling the guest\n",
    "\n",
    "# Print the updated list of guests\n",
    "print(\"\\nUpdated guest list:\")\n",
    "for guest in guests:\n",
    "    print(f\"- {guest}\")\n"
   ]
  },
  {
   "cell_type": "code",
   "execution_count": 31,
   "metadata": {},
   "outputs": [
    {
     "name": "stdout",
     "output_type": "stream",
     "text": [
      "Good news! We found a bigger table.\n",
      "\n",
      "Dear saba,\n",
      "I would be honored to have you as my guest for dinner. Looking forward to your presence!\n",
      "\n",
      "Dear saba,\n",
      "I would be honored to have you as my guest for dinner. Looking forward to your presence!\n",
      "\n",
      "Dear sana,\n",
      "I would be honored to have you as my guest for dinner. Looking forward to your presence!\n",
      "\n",
      "Dear Ada Lovelace,\n",
      "I would be honored to have you as my guest for dinner. Looking forward to your presence!\n",
      "\n",
      "Dear Ada Lovelace,\n",
      "I would be honored to have you as my guest for dinner. Looking forward to your presence!\n",
      "\n",
      "Dear hina,\n",
      "I would be honored to have you as my guest for dinner. Looking forward to your presence!\n",
      "\n",
      "Dear Saba,\n",
      "I would be honored to have you as my guest for dinner. Looking forward to your presence!\n",
      "\n",
      "Dear Nikola Tesla,\n",
      "I would be honored to have you as my guest for dinner. Looking forward to your presence!\n",
      "\n",
      "Dear raiha,\n",
      "I would be honored to have you as my guest for dinner. Looking forward to your presence!\n",
      "\n"
     ]
    }
   ],
   "source": [
    "print(\"Good news! We found a bigger table.\\n\")\n",
    "\n",
    "# Add a new guest to the beginning\n",
    "guests.insert(0, 'saba')\n",
    "\n",
    "# Add a new guest to the middle\n",
    "middle_index = len(guests) // 2\n",
    "guests.insert(middle_index, 'Ada Lovelace')\n",
    "\n",
    "# Add a new guest to the end\n",
    "guests.append('raiha')\n",
    "\n",
    "# Print a new set of invitation messages\n",
    "for guest in guests:\n",
    "    print(f\"Dear {guest},\\nI would be honored to have you as my guest for dinner. Looking forward to your presence!\\n\")"
   ]
  },
  {
   "cell_type": "code",
   "execution_count": 32,
   "metadata": {},
   "outputs": [
    {
     "name": "stdout",
     "output_type": "stream",
     "text": [
      "Unfortunately, I can only invite two people to dinner.\n",
      "\n",
      "Sorry, raiha. I can't invite you to dinner.\n",
      "Sorry, Nikola Tesla. I can't invite you to dinner.\n",
      "Sorry, Saba. I can't invite you to dinner.\n",
      "Sorry, hina. I can't invite you to dinner.\n",
      "Sorry, Ada Lovelace. I can't invite you to dinner.\n",
      "Sorry, Ada Lovelace. I can't invite you to dinner.\n",
      "Sorry, sana. I can't invite you to dinner.\n",
      "Dear saba,\n",
      "You are still invited to dinner. Looking forward to your presence!\n",
      "\n",
      "Dear saba,\n",
      "You are still invited to dinner. Looking forward to your presence!\n",
      "\n",
      "The guest list is now empty:\n",
      "[]\n"
     ]
    }
   ],
   "source": [
    "print(\"Unfortunately, I can only invite two people to dinner.\\n\")\n",
    "\n",
    "# Remove guests one by one until only two remain\n",
    "while len(guests) > 2:\n",
    "    removed_guest = guests.pop()\n",
    "    print(f\"Sorry, {removed_guest}. I can't invite you to dinner.\")\n",
    "\n",
    "# Confirm the remaining guests\n",
    "for guest in guests:\n",
    "    print(f\"Dear {guest},\\nYou are still invited to dinner. Looking forward to your presence!\\n\")\n",
    "\n",
    "# Remove the last two names from the list\n",
    "del guests[:]\n",
    "\n",
    "# Print the empty list to confirm it's empty\n",
    "print(\"The guest list is now empty:\")\n",
    "print(guests)"
   ]
  },
  {
   "cell_type": "code",
   "execution_count": 33,
   "metadata": {},
   "outputs": [
    {
     "name": "stdout",
     "output_type": "stream",
     "text": [
      "Original list:\n",
      "['Paris', 'Tokyo', 'New York', 'Sydney', 'Barcelona']\n",
      "\n",
      "Alphabetical order:\n",
      "['Barcelona', 'New York', 'Paris', 'Sydney', 'Tokyo']\n",
      "\n",
      "Original list again:\n",
      "['Paris', 'Tokyo', 'New York', 'Sydney', 'Barcelona']\n",
      "\n",
      "Reverse-alphabetical order:\n",
      "['Tokyo', 'Sydney', 'Paris', 'New York', 'Barcelona']\n",
      "\n",
      "Original list again:\n",
      "['Paris', 'Tokyo', 'New York', 'Sydney', 'Barcelona']\n",
      "\n",
      "List after reverse() method:\n",
      "['Barcelona', 'Sydney', 'New York', 'Tokyo', 'Paris']\n",
      "\n",
      "List after reverse() method again (back to original):\n",
      "['Paris', 'Tokyo', 'New York', 'Sydney', 'Barcelona']\n",
      "\n",
      "List sorted in alphabetical order with sort():\n",
      "['Barcelona', 'New York', 'Paris', 'Sydney', 'Tokyo']\n",
      "\n",
      "List sorted in reverse-alphabetical order with sort():\n",
      "['Tokyo', 'Sydney', 'Paris', 'New York', 'Barcelona']\n"
     ]
    }
   ],
   "source": [
    "# List of places to visit\n",
    "places :list  = ['Paris', 'Tokyo', 'New York', 'Sydney', 'Barcelona']\n",
    "\n",
    "# Print the original list\n",
    "print(\"Original list:\")\n",
    "print(places)\n",
    "\n",
    "# Print the list in alphabetical order without modifying the original list\n",
    "print(\"\\nAlphabetical order:\")\n",
    "print(sorted(places))\n",
    "\n",
    "# Confirm that the original list is still in its original order\n",
    "print(\"\\nOriginal list again:\")\n",
    "print(places)\n",
    "\n",
    "# Print the list in reverse-alphabetical order without modifying the original list\n",
    "print(\"\\nReverse-alphabetical order:\")\n",
    "print(sorted(places, reverse=True))\n",
    "\n",
    "# Confirm that the original list is still in its original order\n",
    "print(\"\\nOriginal list again:\")\n",
    "print(places)\n",
    "\n",
    "# Reverse the order of the list\n",
    "places.reverse()\n",
    "print(\"\\nList after reverse() method:\")\n",
    "print(places)\n",
    "\n",
    "# Reverse the list again to return to the original order\n",
    "places.reverse()\n",
    "print(\"\\nList after reverse() method again (back to original):\")\n",
    "print(places)\n",
    "\n",
    "# Sort the list in alphabetical order\n",
    "places.sort()\n",
    "print(\"\\nList sorted in alphabetical order with sort():\")\n",
    "print(places)\n",
    "\n",
    "# Sort the list in reverse-alphabetical order\n",
    "places.sort(reverse=True)\n",
    "print(\"\\nList sorted in reverse-alphabetical order with sort():\")\n",
    "print(places)\n"
   ]
  },
  {
   "cell_type": "code",
   "execution_count": null,
   "metadata": {},
   "outputs": [],
   "source": [
    "# Initial list of countries\n",
    "countries :list = ['France', 'Brazil', 'Japan', 'Australia', 'Canada']\n",
    "\n",
    "# 1. Print the original list\n",
    "print(\"Original list of countries:\")\n",
    "print(countries)    #  return_type=print(countries) , print(return_type)=none\n",
    "\n",
    "\n",
    "#2. append()\n",
    "#Description: Adds an item to the end of the list.\n",
    "#Syntax: list.append(item)\n",
    "#item: The element to be added to the list.\n",
    "#Return Type: None ,       return_type=countries.append('Italy'),       print(return_type)=none\n",
    "# 2. Append a new item to the list\n",
    "return_type=countries.append('Italy')\n",
    "print(\"\\nList after appending 'Italy':\")\n",
    "print(countries)\n",
    "\n",
    "\n",
    "\n",
    "\n",
    "# 3. extend()\tExtends list by adding elements from an iterable\tlist.extend(iterable)\treturn_type=None\n",
    "# 3. Extend the list with another list of countries\n",
    "additional_countries = ['India', 'Germany', 'Mexico']\n",
    "countries.extend(additional_countries)\n",
    "print(\"\\nList after extending with additional countries:\")\n",
    "print(countries)\n",
    "\n",
    "# 4. Insert an item at a specific position (index 2)\n",
    "# 4 insert()\tInserts item at a specified position\tlist.insert(index, item)\treturn_type=None\n",
    "countries.insert(2, 'Netherlands')\n",
    "print(\"\\nList after inserting 'Netherlands' at index 2:\")\n",
    "print(countries)\n",
    "\n",
    "# 5. Remove an item by value ('Japan')\n",
    "# remove()\tRemoves the first occurrence of item\tlist.remove(item)\treturn_type=None\n",
    "countries.remove('Japan')\n",
    "print(\"\\nList after removing 'Japan':\")\n",
    "print(countries)\n",
    "\n",
    "# 6. Remove an item by index (last item)\n",
    "# pop()\tRemoves and returns an item at a specified index\tlist.pop([index])\treturn_type=The removed item\n",
    "last_country = countries.pop()\n",
    "print(f\"\\nRemoved the last item: {last_country}\")\n",
    "print(\"List after popping the last item:\")\n",
    "print(countries)\n",
    "\n",
    "# 7. Clear the list\n",
    "# 7 clear()\tRemoves all items from the list\tlist.clear()\treturn_type=None\n",
    "countries.clear()\n",
    "print(\"\\nList after clear() method:\")\n",
    "print(countries)\n",
    "\n",
    "# Re-populate the list for further operations\n",
    "countries = ['France', 'Brazil', 'Japan', 'Australia', 'Canada', 'India', 'Germany', 'Mexico']\n",
    "\n",
    "# 8. Find the index of a specific item ('Australia')\n",
    "# index()\tReturns index of the first occurrence of item\tlist.index(item[, start[, end]])\treturn_type int\n",
    "index_of_australia = countries.index('Australia')\n",
    "print(f\"\\nIndex of 'Australia': {index_of_australia}\")\n",
    "\n",
    "\n",
    "\n",
    "# index()\tReturns index of the first occurrence of item\tlist.index(item[, start[, end]])\treturn_type=int\n",
    "# 9. Count the occurrences of a specific item ('Canada')\n",
    "count_of_canada = countries.count('Canada')\n",
    "print(f\"Count of 'Canada': {count_of_canada}\")\n",
    "\n",
    "\n",
    "# sort()\tSorts the list in place\tlist.sort(key=None, reverse=False)\treturn_type=None\n",
    "# 10. Sort the list in alphabetical order\n",
    "countries.sort()\n",
    "print(\"\\nList sorted in alphabetical order with sort():\")\n",
    "print(countries)\n",
    "\n",
    "# 11. Reverse the order of the list\n",
    "#reverse()\tReverses the order of items in the list\tlist.reverse()\treturn_type=None\n",
    "countries.reverse()\n",
    "print(\"\\nList after reverse() method:\")\n",
    "print(countries)\n",
    "\n",
    "# 12. Copy the list\n",
    "# copy()\tReturns a shallow copy of the list\tlist.copy()\treturn_type New list\n",
    "countries_copy = countries.copy()\n",
    "print(\"\\nCopy of the list:\")\n",
    "print(countries_copy)\n",
    "\n",
    "# Final state of both lists\n",
    "print(\"\\nFinal state of the original list:\")\n",
    "print(countries)\n",
    "print(\"\\nFinal state of the copied list:\")\n",
    "print(countries_copy)\n"
   ]
  },
  {
   "cell_type": "code",
   "execution_count": null,
   "metadata": {},
   "outputs": [],
   "source": [
    "Name Ayesha Shahid\n",
    "ID PIAIC245513"
   ]
  }
 ],
 "metadata": {
  "kernelspec": {
   "display_name": "Python 3",
   "language": "python",
   "name": "python3"
  },
  "language_info": {
   "codemirror_mode": {
    "name": "ipython",
    "version": 3
   },
   "file_extension": ".py",
   "mimetype": "text/x-python",
   "name": "python",
   "nbconvert_exporter": "python",
   "pygments_lexer": "ipython3",
   "version": "3.12.3"
  }
 },
 "nbformat": 4,
 "nbformat_minor": 2
}
