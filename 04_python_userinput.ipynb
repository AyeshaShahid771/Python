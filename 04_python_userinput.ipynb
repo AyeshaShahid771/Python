{
 "cells": [
  {
   "cell_type": "code",
   "execution_count": 9,
   "metadata": {},
   "outputs": [],
   "source": [
    "user1 =input(\"Enter your name: \")\n",
    "spouse1 =input(\"Enter your  father name: \")\n",
    "spouse2 =input(\"Enter your  mother name: \")"
   ]
  },
  {
   "cell_type": "code",
   "execution_count": 10,
   "metadata": {},
   "outputs": [
    {
     "name": "stdout",
     "output_type": "stream",
     "text": [
      "ayesha and shahid and sobia are the best of friends.\n"
     ]
    }
   ],
   "source": [
    "print(user1 + \" and \" + spouse1 + \" and \" + spouse2 + \" are the best of friends.\")"
   ]
  }
 ],
 "metadata": {
  "kernelspec": {
   "display_name": "Python 3",
   "language": "python",
   "name": "python3"
  },
  "language_info": {
   "codemirror_mode": {
    "name": "ipython",
    "version": 3
   },
   "file_extension": ".py",
   "mimetype": "text/x-python",
   "name": "python",
   "nbconvert_exporter": "python",
   "pygments_lexer": "ipython3",
   "version": "3.12.3"
  }
 },
 "nbformat": 4,
 "nbformat_minor": 2
}
