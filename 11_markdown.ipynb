{
 "cells": [
  {
   "cell_type": "markdown",
   "metadata": {},
   "source": [
    "## To create a blockquote"
   ]
  },
  {
   "cell_type": "code",
   "execution_count": 2,
   "metadata": {},
   "outputs": [],
   "source": [
    "# To create a blockquote, add a > in front of a paragraph.\n",
    "# e.g> Dorothy followed her through many of the beautiful rooms in her castle"
   ]
  },
  {
   "cell_type": "markdown",
   "metadata": {},
   "source": [
    "\n",
    "> Dorothy followed her through many of the beautiful rooms in her castle."
   ]
  },
  {
   "cell_type": "code",
   "execution_count": 3,
   "metadata": {},
   "outputs": [],
   "source": [
    "# Blockquotes with Multiple Paragraphs\n",
    "# Blockquotes can contain multiple paragraphs. Add a > on the blank lines between the paragraphs.\n",
    "# e.g \n",
    "#  > Dorothy followed her through many of the beautiful rooms in her castle.\n",
    "#  >\n",
    "#  > The Witch bade her clean the pots and kettles and sweep the floor and keep the fire fed with wood."
   ]
  },
  {
   "cell_type": "markdown",
   "metadata": {},
   "source": [
    "\n",
    "\n",
    "\n",
    "> Dorothy followed her through many of the beautiful rooms in her castle.\n",
    ">\n",
    "> The Witch bade her clean the pots and kettles and sweep the floor and keep the fire fed with wood."
   ]
  },
  {
   "cell_type": "markdown",
   "metadata": {},
   "source": [
    "## Nested Blockquotes"
   ]
  },
  {
   "cell_type": "code",
   "execution_count": 4,
   "metadata": {},
   "outputs": [],
   "source": [
    "#Nested Blockquotes\n",
    "#Blockquotes can be nested. Add a >> in front of the paragraph you want to nest.\n",
    "\n",
    "#> Dorothy followed her through many of the beautiful rooms in her castle.\n",
    "#>\n",
    "#>> The Witch bade her clean the pots and kettles and sweep the floor and keep the fire fed with wood.\"\"\""
   ]
  },
  {
   "cell_type": "markdown",
   "metadata": {},
   "source": [
    "> Dorothy followed her through many of the beautiful rooms in her castle.\n",
    ">\n",
    ">> The Witch bade her clean the pots and kettles and sweep the floor and keep the fire fed with wood."
   ]
  },
  {
   "cell_type": "code",
   "execution_count": 5,
   "metadata": {},
   "outputs": [],
   "source": [
    "#Blockquotes with Other Elements\n",
    "#Blockquotes can contain other Markdown formatted elements. Not all elements can be used — you'll need to experiment to see which ones work.\n",
    "\n",
    "#> #### The quarterly results look great!\n",
    "#>\n",
    "#> - Revenue was off the chart.\n",
    "#> - Profits were higher than ever.\n",
    "#>\n",
    "#>  *Everything* is going according to **plan**."
   ]
  },
  {
   "cell_type": "markdown",
   "metadata": {},
   "source": [
    "> #### The quarterly results look great!\n",
    ">\n",
    "> - Revenue was off the chart.\n",
    "> - Profits were higher than ever.\n",
    ">\n",
    ">  *Everything* is going according to **plan**."
   ]
  },
  {
   "cell_type": "markdown",
   "metadata": {},
   "source": [
    "## To BOLD TEXT"
   ]
  },
  {
   "cell_type": "code",
   "execution_count": 6,
   "metadata": {},
   "outputs": [],
   "source": [
    "#To bold text, add two asterisks or underscores before and after a word or phrase. To bold the middle of a word for emphasis, add two asterisks without spaces around the letters.\n",
    "\n",
    "#<br>I just love **bold text**.</br>\t ## <br> tag is for newline\n",
    "#<br>I just love __bold text__ .</br>\n",
    "#<br>Love**is**bold</br>"
   ]
  },
  {
   "cell_type": "markdown",
   "metadata": {},
   "source": [
    "\n",
    "<br>I just love **bold text**.</br>\t \n",
    "<br>I just love __bold text__ .</br>\n",
    "<br>Love**is**bold</br>"
   ]
  },
  {
   "cell_type": "markdown",
   "metadata": {},
   "source": [
    "## Escaping Backticks"
   ]
  },
  {
   "cell_type": "code",
   "execution_count": 7,
   "metadata": {},
   "outputs": [],
   "source": [
    "\n",
    "#If the word or phrase you want to denote as code includes one or more backticks, you can escape it by enclosing the word or phrase in double backticks (``).\n",
    "\n",
    "#e.g\t:\n",
    "#``Use `code` in your Markdown file.``"
   ]
  },
  {
   "cell_type": "markdown",
   "metadata": {},
   "source": [
    "``Use `code` in your Markdown file.``"
   ]
  },
  {
   "cell_type": "markdown",
   "metadata": {},
   "source": [
    "## Bold and Italic"
   ]
  },
  {
   "cell_type": "code",
   "execution_count": 8,
   "metadata": {},
   "outputs": [],
   "source": [
    "\n",
    "#To emphasize text with bold and italics at the same time, add three asterisks or underscores before and after a word or phrase. To bold and italicize the middle of a word for emphasis, add three asterisks without spaces around the letters.\n",
    "# best practice is  :   This is really***very***important text.\n",
    "#e.g:\n",
    "#This text is ***really important***.\t\t\n",
    "#This text is ___really important___.\t\t\n",
    "#This text is __*really important*__.\t\t\n",
    "#This text is **_really important_**.\t\n",
    "#This is really***very***important text."
   ]
  },
  {
   "cell_type": "markdown",
   "metadata": {},
   "source": [
    "This text is ***really important***.\t\t\n",
    "This text is ___really important___.\t\t\n",
    "This text is __*really important*__.\t\t\n",
    "This text is **_really important_**.\t\n",
    "This is really***very***important text."
   ]
  },
  {
   "cell_type": "markdown",
   "metadata": {},
   "source": [
    "# Headings"
   ]
  },
  {
   "cell_type": "code",
   "execution_count": 9,
   "metadata": {},
   "outputs": [],
   "source": [
    "# Heading level 1\t\t\n",
    "\n",
    "## Heading level 2\t\t\n",
    "\n",
    "### Heading level 3\t\t\n",
    "\n",
    "#### Heading level 4\t\t\n",
    "\n",
    "##### Heading level 5\t\t\n",
    "\n",
    "###### Heading level 6"
   ]
  },
  {
   "cell_type": "markdown",
   "metadata": {},
   "source": [
    "# Heading level 1\t\t\n",
    "Heading level 1\n",
    "## Heading level 2\t\t\n",
    "Heading level 2\n",
    "### Heading level 3\t\t\n",
    "Heading level 3\n",
    "#### Heading level 4\t\t\n",
    "Heading level 4\n",
    "##### Heading level 5\t\t\n",
    "Heading level 5\n",
    "###### Heading level 6"
   ]
  },
  {
   "cell_type": "markdown",
   "metadata": {},
   "source": [
    "## To create horizontal lines"
   ]
  },
  {
   "cell_type": "code",
   "execution_count": 10,
   "metadata": {},
   "outputs": [
    {
     "ename": "NameError",
     "evalue": "name '_________________' is not defined",
     "output_type": "error",
     "traceback": [
      "\u001b[1;31m---------------------------------------------------------------------------\u001b[0m",
      "\u001b[1;31mNameError\u001b[0m                                 Traceback (most recent call last)",
      "Cell \u001b[1;32mIn[10], line 7\u001b[0m\n\u001b[0;32m      1\u001b[0m \u001b[38;5;66;03m#To create a horizontal rule, use three or more asterisks (***), dashes (---), or underscores (___) on a line by themselves.\u001b[39;00m\n\u001b[0;32m      2\u001b[0m \n\u001b[0;32m      3\u001b[0m \u001b[38;5;66;03m#***\u001b[39;00m\n\u001b[0;32m      4\u001b[0m \n\u001b[0;32m      5\u001b[0m \u001b[38;5;66;03m#---\u001b[39;00m\n\u001b[1;32m----> 7\u001b[0m \u001b[43m_________________\u001b[49m\n",
      "\u001b[1;31mNameError\u001b[0m: name '_________________' is not defined"
     ]
    }
   ],
   "source": [
    "#To create a horizontal rule, use three or more asterisks (***), dashes (---), or underscores (___) on a line by themselves.\n",
    "\n",
    "#***\n",
    "\n",
    "#---\n",
    "\n",
    "_________________"
   ]
  },
  {
   "cell_type": "markdown",
   "metadata": {},
   "source": [
    "***\n",
    "\n",
    "---\n",
    "\n",
    "_________________"
   ]
  },
  {
   "cell_type": "markdown",
   "metadata": {},
   "source": [
    "## To add images"
   ]
  },
  {
   "cell_type": "markdown",
   "metadata": {},
   "source": [
    "To add an image, add an exclamation mark (!), followed by alt text in brackets, and the path or URL to the image asset in parentheses. You can optionally add a title in quotation marks after the path or URL.\n",
    "\n",
    "![The San Juan Mountains are beautiful!](mountains.jpg)\n"
   ]
  },
  {
   "cell_type": "markdown",
   "metadata": {},
   "source": [
    "## To add line break"
   ]
  },
  {
   "cell_type": "code",
   "execution_count": null,
   "metadata": {},
   "outputs": [],
   "source": [
    "\n",
    "#To create a line break or new line (<br>), end a line with two or more spaces, and then type return."
   ]
  },
  {
   "cell_type": "markdown",
   "metadata": {},
   "source": [
    "## To add link\n"
   ]
  },
  {
   "cell_type": "code",
   "execution_count": null,
   "metadata": {},
   "outputs": [],
   "source": [
    "#To create a link, enclose the link text in brackets (e.g., [Duck Duck Go]) and then follow it immediately with the URL in parentheses (e.g., (https://duckduckgo.com))."
   ]
  }
 ],
 "metadata": {
  "kernelspec": {
   "display_name": "Python 3",
   "language": "python",
   "name": "python3"
  },
  "language_info": {
   "codemirror_mode": {
    "name": "ipython",
    "version": 3
   },
   "file_extension": ".py",
   "mimetype": "text/x-python",
   "name": "python",
   "nbconvert_exporter": "python",
   "pygments_lexer": "ipython3",
   "version": "3.12.3"
  }
 },
 "nbformat": 4,
 "nbformat_minor": 2
}
